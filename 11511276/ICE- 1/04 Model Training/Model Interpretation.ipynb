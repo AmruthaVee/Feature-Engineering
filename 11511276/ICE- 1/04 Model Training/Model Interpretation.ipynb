{
 "cells": [
  {
   "cell_type": "code",
   "execution_count": 1,
   "id": "33183ea5",
   "metadata": {},
   "outputs": [],
   "source": [
    "import pickle\n",
    "import pandas as pd\n",
    "import numpy as np\n",
    "import random"
   ]
  },
  {
   "cell_type": "code",
   "execution_count": 2,
   "id": "3e903168",
   "metadata": {},
   "outputs": [],
   "source": [
    "# Dataframe\n",
    "path_df = r\"C:\\Users\\Saran Sai\\Desktop\\AI- UNT\\Feature Engineering\\ICE-1\\03 Feature Engineering\\Pickles\\df.pickle\"\n",
    "with open(path_df, 'rb') as data:\n",
    "    df = pickle.load(data)\n",
    "    \n",
    "# X_train\n",
    "path_X_train = r\"C:\\Users\\Saran Sai\\Desktop\\AI- UNT\\Feature Engineering\\ICE-1\\03 Feature Engineering\\Pickles\\X_train.pickle\"\n",
    "with open(path_X_train, 'rb') as data:\n",
    "    X_train = pickle.load(data)\n",
    "\n",
    "# X_test\n",
    "path_X_test = r\"C:\\Users\\Saran Sai\\Desktop\\AI- UNT\\Feature Engineering\\ICE-1\\03 Feature Engineering\\Pickles\\X_test.pickle\"\n",
    "with open(path_X_test, 'rb') as data:\n",
    "    X_test = pickle.load(data)\n",
    "\n",
    "# y_train\n",
    "path_y_train = r\"C:\\Users\\Saran Sai\\Desktop\\AI- UNT\\Feature Engineering\\ICE-1\\03 Feature Engineering\\Pickles\\y_train.pickle\"\n",
    "with open(path_y_train, 'rb') as data:\n",
    "    y_train = pickle.load(data)\n",
    "\n",
    "# y_test\n",
    "path_y_test = r\"C:\\Users\\Saran Sai\\Desktop\\AI- UNT\\Feature Engineering\\ICE-1\\03 Feature Engineering\\Pickles\\y_test.pickle\"\n",
    "with open(path_y_test, 'rb') as data:\n",
    "    y_test = pickle.load(data)\n",
    "\n",
    "# features_train\n",
    "path_features_train = r\"C:\\Users\\Saran Sai\\Desktop\\AI- UNT\\Feature Engineering\\ICE-1\\03 Feature Engineering\\Pickles\\features_train.pickle\"\n",
    "with open(path_features_train, 'rb') as data:\n",
    "    features_train = pickle.load(data)\n",
    "\n",
    "# labels_train\n",
    "path_labels_train = r\"C:\\Users\\Saran Sai\\Desktop\\AI- UNT\\Feature Engineering\\ICE-1\\03 Feature Engineering\\Pickles\\labels_train.pickle\"\n",
    "with open(path_labels_train, 'rb') as data:\n",
    "    labels_train = pickle.load(data)\n",
    "\n",
    "# features_test\n",
    "path_features_test = r\"C:\\Users\\Saran Sai\\Desktop\\AI- UNT\\Feature Engineering\\ICE-1\\03 Feature Engineering\\Pickles\\features_test.pickle\"\n",
    "with open(path_features_test, 'rb') as data:\n",
    "    features_test = pickle.load(data)\n",
    "\n",
    "# labels_test\n",
    "path_labels_test = r\"C:\\Users\\Saran Sai\\Desktop\\AI- UNT\\Feature Engineering\\ICE-1\\03 Feature Engineering\\Pickles\\labels_test.pickle\"\n",
    "with open(path_labels_test, 'rb') as data:\n",
    "    labels_test = pickle.load(data)\n",
    "    # SVM Model\n",
    "path_model = r\"C:\\Users\\Saran Sai\\Desktop\\AI- UNT\\Feature Engineering\\ICE-1\\04 Model Training\\Models\\best_svc.pickle\"\n",
    "with open(path_model, 'rb') as data:\n",
    "    svc_model = pickle.load(data)\n",
    "    \n",
    "# Category mapping dictionary\n",
    "category_codes = {\n",
    "    'Autonomous Cars': 0,\n",
    "    'Bill Resource': 1,\n",
    "    'Companies Working on Autonomous Cars': 2\n",
    "}\n",
    "\n",
    "category_names = {\n",
    "    0: 'Autonomous Cars',\n",
    "    1: 'Bill Resource',\n",
    "    2: 'Companies Working on Autonomous Cars'\n",
    "}"
   ]
  },
  {
   "cell_type": "code",
   "execution_count": 3,
   "id": "9dc59ef2",
   "metadata": {},
   "outputs": [],
   "source": [
    "predictions = svc_model.predict(features_test)"
   ]
  },
  {
   "cell_type": "code",
   "execution_count": 4,
   "id": "b352daf2",
   "metadata": {},
   "outputs": [],
   "source": [
    "# Indexes of the test set\n",
    "index_X_test = X_test.index\n",
    "\n",
    "# We get them from the original df\n",
    "df_test = df.loc[index_X_test]\n",
    "\n",
    "# Add the predictions\n",
    "df_test['Prediction'] = predictions\n",
    "\n",
    "# Clean columns\n",
    "df_test = df_test[['Article Content', 'Category', 'Category_Code', 'Prediction']]\n",
    "\n",
    "# Decode\n",
    "df_test['Category_Predicted'] = df_test['Prediction']\n",
    "df_test = df_test.replace({'Category_Predicted':category_names})\n",
    "\n",
    "# Clean columns again\n",
    "df_test = df_test[['Article Content', 'Category', 'Category_Predicted']]"
   ]
  },
  {
   "cell_type": "code",
   "execution_count": 5,
   "id": "a1d16426",
   "metadata": {},
   "outputs": [
    {
     "data": {
      "text/html": [
       "<div>\n",
       "<style scoped>\n",
       "    .dataframe tbody tr th:only-of-type {\n",
       "        vertical-align: middle;\n",
       "    }\n",
       "\n",
       "    .dataframe tbody tr th {\n",
       "        vertical-align: top;\n",
       "    }\n",
       "\n",
       "    .dataframe thead th {\n",
       "        text-align: right;\n",
       "    }\n",
       "</style>\n",
       "<table border=\"1\" class=\"dataframe\">\n",
       "  <thead>\n",
       "    <tr style=\"text-align: right;\">\n",
       "      <th></th>\n",
       "      <th>Article Content</th>\n",
       "      <th>Category</th>\n",
       "      <th>Category_Predicted</th>\n",
       "    </tr>\n",
       "  </thead>\n",
       "  <tbody>\n",
       "    <tr>\n",
       "      <th>58</th>\n",
       "      <td>Technology Used:BMW utilizes the Mobileye EyeQ...</td>\n",
       "      <td>Autonomous Cars</td>\n",
       "      <td>Companies Working on Autonomous Cars</td>\n",
       "    </tr>\n",
       "    <tr>\n",
       "      <th>477</th>\n",
       "      <td>That lawsuit settled, as Uber agreed to give A...</td>\n",
       "      <td>Companies Working on Autonomous Cars</td>\n",
       "      <td>Companies Working on Autonomous Cars</td>\n",
       "    </tr>\n",
       "    <tr>\n",
       "      <th>429</th>\n",
       "      <td>In August 2019, Tata Elxsi’s then CEO Madhukar...</td>\n",
       "      <td>Companies Working on Autonomous Cars</td>\n",
       "      <td>Companies Working on Autonomous Cars</td>\n",
       "    </tr>\n",
       "    <tr>\n",
       "      <th>502</th>\n",
       "      <td>The road to Volkswagen’s self-driving ambition...</td>\n",
       "      <td>Companies Working on Autonomous Cars</td>\n",
       "      <td>Companies Working on Autonomous Cars</td>\n",
       "    </tr>\n",
       "    <tr>\n",
       "      <th>730</th>\n",
       "      <td>(c) If a mortgagor of a vehicle is entitled to...</td>\n",
       "      <td>Bill Resource</td>\n",
       "      <td>Bill Resource</td>\n",
       "    </tr>\n",
       "  </tbody>\n",
       "</table>\n",
       "</div>"
      ],
      "text/plain": [
       "                                       Article Content  \\\n",
       "58   Technology Used:BMW utilizes the Mobileye EyeQ...   \n",
       "477  That lawsuit settled, as Uber agreed to give A...   \n",
       "429  In August 2019, Tata Elxsi’s then CEO Madhukar...   \n",
       "502  The road to Volkswagen’s self-driving ambition...   \n",
       "730  (c) If a mortgagor of a vehicle is entitled to...   \n",
       "\n",
       "                                 Category  \\\n",
       "58                        Autonomous Cars   \n",
       "477  Companies Working on Autonomous Cars   \n",
       "429  Companies Working on Autonomous Cars   \n",
       "502  Companies Working on Autonomous Cars   \n",
       "730                         Bill Resource   \n",
       "\n",
       "                       Category_Predicted  \n",
       "58   Companies Working on Autonomous Cars  \n",
       "477  Companies Working on Autonomous Cars  \n",
       "429  Companies Working on Autonomous Cars  \n",
       "502  Companies Working on Autonomous Cars  \n",
       "730                         Bill Resource  "
      ]
     },
     "execution_count": 5,
     "metadata": {},
     "output_type": "execute_result"
    }
   ],
   "source": [
    "df_test.head()"
   ]
  },
  {
   "cell_type": "code",
   "execution_count": 6,
   "id": "88297be4",
   "metadata": {},
   "outputs": [
    {
     "data": {
      "text/html": [
       "<div>\n",
       "<style scoped>\n",
       "    .dataframe tbody tr th:only-of-type {\n",
       "        vertical-align: middle;\n",
       "    }\n",
       "\n",
       "    .dataframe tbody tr th {\n",
       "        vertical-align: top;\n",
       "    }\n",
       "\n",
       "    .dataframe thead th {\n",
       "        text-align: right;\n",
       "    }\n",
       "</style>\n",
       "<table border=\"1\" class=\"dataframe\">\n",
       "  <thead>\n",
       "    <tr style=\"text-align: right;\">\n",
       "      <th></th>\n",
       "      <th>Article Content</th>\n",
       "      <th>Category</th>\n",
       "      <th>Category_Predicted</th>\n",
       "    </tr>\n",
       "  </thead>\n",
       "  <tbody>\n",
       "    <tr>\n",
       "      <th>58</th>\n",
       "      <td>Technology Used:BMW utilizes the Mobileye EyeQ...</td>\n",
       "      <td>Autonomous Cars</td>\n",
       "      <td>Companies Working on Autonomous Cars</td>\n",
       "    </tr>\n",
       "    <tr>\n",
       "      <th>41</th>\n",
       "      <td>Supported Models: All current Tesla vehicles (...</td>\n",
       "      <td>Autonomous Cars</td>\n",
       "      <td>Companies Working on Autonomous Cars</td>\n",
       "    </tr>\n",
       "    <tr>\n",
       "      <th>51</th>\n",
       "      <td>What It’s Called:Active Lane Assist with Stop ...</td>\n",
       "      <td>Autonomous Cars</td>\n",
       "      <td>Companies Working on Autonomous Cars</td>\n",
       "    </tr>\n",
       "  </tbody>\n",
       "</table>\n",
       "</div>"
      ],
      "text/plain": [
       "                                      Article Content         Category  \\\n",
       "58  Technology Used:BMW utilizes the Mobileye EyeQ...  Autonomous Cars   \n",
       "41  Supported Models: All current Tesla vehicles (...  Autonomous Cars   \n",
       "51  What It’s Called:Active Lane Assist with Stop ...  Autonomous Cars   \n",
       "\n",
       "                      Category_Predicted  \n",
       "58  Companies Working on Autonomous Cars  \n",
       "41  Companies Working on Autonomous Cars  \n",
       "51  Companies Working on Autonomous Cars  "
      ]
     },
     "execution_count": 6,
     "metadata": {},
     "output_type": "execute_result"
    }
   ],
   "source": [
    "condition = (df_test['Category'] != df_test['Category_Predicted'])\n",
    "\n",
    "df_misclassified = df_test[condition]\n",
    "\n",
    "df_misclassified.head(3)"
   ]
  },
  {
   "cell_type": "code",
   "execution_count": 7,
   "id": "3d69e9ea",
   "metadata": {},
   "outputs": [],
   "source": [
    "def output_article(row_article):\n",
    "    print('Actual Category: %s' %(row_article['Category']))\n",
    "    print('Predicted Category: %s' %(row_article['Category_Predicted']))\n",
    "    print('-------------------------------------------')\n",
    "    print('Text: ')\n",
    "    print('%s' %(row_article['Article Content']))"
   ]
  },
  {
   "cell_type": "code",
   "execution_count": 8,
   "id": "2cbca3ea",
   "metadata": {},
   "outputs": [
    {
     "data": {
      "text/plain": [
       "[92, 18, 100]"
      ]
     },
     "execution_count": 8,
     "metadata": {},
     "output_type": "execute_result"
    }
   ],
   "source": [
    "random.seed(8)\n",
    "list_samples = random.sample(list(df_misclassified.index), 3)\n",
    "list_samples"
   ]
  },
  {
   "cell_type": "code",
   "execution_count": 9,
   "id": "57f9b99f",
   "metadata": {},
   "outputs": [
    {
     "name": "stdout",
     "output_type": "stream",
     "text": [
      "Actual Category: Autonomous Cars\n",
      "Predicted Category: Companies Working on Autonomous Cars\n",
      "-------------------------------------------\n",
      "Text: \n",
      "Toyota has the Toyota Safety Sense (TSS) system, the latest version being TSS 2.0.  Lexus calls its system the Lexus Safety System (LSS) and the automation Lexus CODRIVE.  TSS 2.0 initially became available in the 2020 RAV4 and 2020 Corolla and has since rolled out to more vehicles.  Both Lexus and Toyota use a feature called “Lane Tracing Assist” which allows the vehicle to center itself in a lane, but is not as robust as Tesla, Cadillac or BMW.\n"
     ]
    }
   ],
   "source": [
    "output_article(df_misclassified.loc[list_samples[0]])"
   ]
  },
  {
   "cell_type": "code",
   "execution_count": 10,
   "id": "977b8538",
   "metadata": {},
   "outputs": [
    {
     "name": "stdout",
     "output_type": "stream",
     "text": [
      "Actual Category: Autonomous Cars\n",
      "Predicted Category: Companies Working on Autonomous Cars\n",
      "-------------------------------------------\n",
      "Text: \n",
      "The bottom line is, if you see “Lane Keeping Assist”, be sure to dig into that feature and test drive it on the freeway to understand whether it automatically keeps the system centered in the lane automatically, and how well it does it.  The last thing you want is a false sense of security and have the car drift into another lane or off the road.\n"
     ]
    }
   ],
   "source": [
    "output_article(df_misclassified.loc[list_samples[1]])"
   ]
  },
  {
   "cell_type": "code",
   "execution_count": 11,
   "id": "2740ca08",
   "metadata": {},
   "outputs": [
    {
     "name": "stdout",
     "output_type": "stream",
     "text": [
      "Actual Category: Autonomous Cars\n",
      "Predicted Category: Companies Working on Autonomous Cars\n",
      "-------------------------------------------\n",
      "Text: \n",
      "If you’re not sure, check out videos on YouTube – enthusiasts and professionals often test out the systems to provide their opinions and real-world examples.\n"
     ]
    }
   ],
   "source": [
    "output_article(df_misclassified.loc[list_samples[2]])"
   ]
  }
 ],
 "metadata": {
  "kernelspec": {
   "display_name": "Python 3",
   "language": "python",
   "name": "python3"
  },
  "language_info": {
   "codemirror_mode": {
    "name": "ipython",
    "version": 3
   },
   "file_extension": ".py",
   "mimetype": "text/x-python",
   "name": "python",
   "nbconvert_exporter": "python",
   "pygments_lexer": "ipython3",
   "version": "3.8.8"
  }
 },
 "nbformat": 4,
 "nbformat_minor": 5
}
